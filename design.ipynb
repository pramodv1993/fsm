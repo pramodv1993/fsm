{
 "cells": [
  {
   "cell_type": "markdown",
   "metadata": {},
   "source": [
    "### Finite State Machine\n",
    "5-element tuple: $(Q, \\Sigma, \\delta, q_{0}, F)$\n",
    "- Q: finite set of states\n",
    "- $\\Sigma$: input symbols\n",
    "- $\\delta$: transition function ($\\delta$: Q x $\\Sigma$ $\\rightarrow$ Q)\n",
    "- $q_{0}$: starting state\n",
    "- $F$: final state"
   ]
  },
  {
   "cell_type": "markdown",
   "metadata": {},
   "source": [
    "#### Generic Design"
   ]
  },
  {
   "cell_type": "markdown",
   "metadata": {},
   "source": [
    "<!-- <img src=\"images/uml_fsm.png\"  width=\"600\"/> -->\n",
    "[<img src=\"images/uml_fsm.png\"  width=\"600\"/>](images/uml_fsm.png)"
   ]
  },
  {
   "cell_type": "markdown",
   "metadata": {},
   "source": [
    "#### Toy Problem\n",
    "CandyCounter machine that fails when >2 similar candies/lollipops are encoutered"
   ]
  },
  {
   "cell_type": "markdown",
   "metadata": {},
   "source": [
    "##### Assumptions:\n",
    "- Lemon and Strawberry flavored lollipops identified by the symbols '`l`' and '`c`' are counted using the lemon and stawberry counter idenfitied by the states ($q_{l}$) and ($q_{s}$) respectively.\n",
    "- Termination state $q_{f}$ can be reached at any point by the symbol '`c`'\n",
    "- The possible causes for error state ($q_{e}$):\n",
    "    - `lll` or `sss` are seen\n",
    "- To implement the - persisting machine state during unforeseen failures in the machine, the following situations are considered as error:\n",
    "    - Unknown symbol encountered by the machine\n",
    "    - KeyboardInterrupt error if the input symbol is accepted via standard input "
   ]
  },
  {
   "cell_type": "markdown",
   "metadata": {},
   "source": [
    "LollipopCandy Counter FSM"
   ]
  },
  {
   "cell_type": "markdown",
   "metadata": {},
   "source": [
    "<img src=\"images/design.jpg\" width=\"700\"/>\n",
    "\n"
   ]
  },
  {
   "cell_type": "markdown",
   "metadata": {},
   "source": [
    "##### Examples"
   ]
  },
  {
   "cell_type": "code",
   "execution_count": 1,
   "metadata": {},
   "outputs": [
    {
     "name": "stdout",
     "output_type": "stream",
     "text": [
      "(Q0) --'s'--> (Q_s) --'l'--> (Q_l) --'s'--> (Q_s) --'l'--> (Q_l) --'s'--> (Q_s) --'l'--> (Q_l) --'s'--> (Q_s)\n"
     ]
    }
   ],
   "source": [
    "!python3 run.py --inp slslsls"
   ]
  },
  {
   "cell_type": "code",
   "execution_count": 5,
   "metadata": {},
   "outputs": [
    {
     "name": "stdout",
     "output_type": "stream",
     "text": [
      "(Q0) --'s'--> (Q_s)\n",
      "(Q_s) --'l'--> (Q_l)\n",
      "(Q_l) --'s'--> (Q_s)\n",
      "(Q_s) --'s'--> (Q_s)\n",
      "(Q_s) --'s'--> (Q_e)\n",
      "(Q_e) --'l'--> (Q_l)\n",
      "(Q_l) --'l'--> (Q_l)\n",
      "(Q_l) --'s'--> (Q_s)\n",
      "(Q_s) --'3'--> Encountered a failure!\n",
      "Details:- Invalid Symbol\n",
      "Persisting FSM state..\n",
      "States persisted in file: fsm_2024_03_04.pkl\n"
     ]
    }
   ],
   "source": [
    "!python3 run.py --file demo.txt --persist"
   ]
  },
  {
   "cell_type": "code",
   "execution_count": 4,
   "metadata": {},
   "outputs": [
    {
     "name": "stdout",
     "output_type": "stream",
     "text": [
      "Restoring FSM..\n",
      "(Q_s) --'s'--> (Q_s) --'l'--> (Q_l) --'s'--> (Q_s) --'s'--> (Q_s) --'s'--> (Q_e)\n"
     ]
    }
   ],
   "source": [
    "!python3 run.py --restore fsm_2024_03_04.pkl --inp slsss"
   ]
  }
 ],
 "metadata": {
  "kernelspec": {
   "display_name": "venv",
   "language": "python",
   "name": "python3"
  },
  "language_info": {
   "codemirror_mode": {
    "name": "ipython",
    "version": 3
   },
   "file_extension": ".py",
   "mimetype": "text/x-python",
   "name": "python",
   "nbconvert_exporter": "python",
   "pygments_lexer": "ipython3",
   "version": "3.10.4"
  },
  "orig_nbformat": 4
 },
 "nbformat": 4,
 "nbformat_minor": 2
}
