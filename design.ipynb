{
 "cells": [
  {
   "cell_type": "markdown",
   "metadata": {},
   "source": [
    "##### Finite State Machine\n",
    "5-element tuple: $(Q, \\Sigma, \\delta, q_{0}, F)$\n",
    "- Q: finite set of states\n",
    "- $\\Sigma$: input symbols\n",
    "- $\\delta$: transition function ($\\delta$: Q x $\\Sigma$ $\\rightarrow$ Q)\n",
    "- $q_{0}$: starting state\n",
    "- $F$: final state"
   ]
  },
  {
   "cell_type": "markdown",
   "metadata": {},
   "source": [
    "##### Generic Framework"
   ]
  },
  {
   "cell_type": "code",
   "execution_count": 91,
   "metadata": {},
   "outputs": [],
   "source": [
    "from typing import Any, List, Optional\n",
    "from abc import abstractmethod\n",
    "from datetime import datetime\n",
    "import pickle\n",
    "\n",
    "class State():\n",
    "    def __init__(self, id: str, val: Optional[Any]=None) -> None:\n",
    "        self.id = id\n",
    "        self.value = val\n",
    "    @property\n",
    "    def value(self):\n",
    "        return self._val\n",
    "    \n",
    "    @value.setter\n",
    "    def value(self, val: Any):\n",
    "        self._val = val\n",
    "    \n",
    "    @abstractmethod\n",
    "    def reset_state(self): #to reset the value\n",
    "        pass\n",
    "    @abstractmethod\n",
    "    def update_state(self): #to update the value\n",
    "        pass\n",
    "\n",
    "    def __str__(self):\n",
    "        return f\"State: {self.id}, val: {self.value}\"\n",
    "\n",
    "class FSM():\n",
    "    def __init__(self, \n",
    "                 states: List[State], #Q\n",
    "                 start_state: State, #q0\n",
    "                 end_state: State, #F\n",
    "                 symbols: List[str], #Sigma\n",
    "                 current_state: Optional[State]=None, #for persistence\n",
    "                 persist_on_failure: Optional[bool]=False\n",
    "                 ) -> None:\n",
    "        self.states = states\n",
    "        self.state_lookup = {state.id: state for state in self.states}\n",
    "        self.start_state = start_state\n",
    "        self.end_state = end_state\n",
    "        self.symbols = symbols\n",
    "        self.persist_on_failure = persist_on_failure\n",
    "        self.current_state = self.start_state if not current_state else current_state\n",
    "\n",
    "    def _process_symbol(self, inp_symbol: str) -> State:\n",
    "        next_state = self._transition_fn(self.current_state, inp_symbol)\n",
    "        return next_state\n",
    "    \n",
    "    def process_symbols(self, seq: List[str]) -> State:\n",
    "        try:\n",
    "            for symbol in seq:\n",
    "                log = f\"({self.current_state.id}) --\\'{symbol}\\'--> \"\n",
    "                print(log, end=\"\")\n",
    "                self.current_state = self._process_symbol(symbol)\n",
    "                if self.current_state==self.end_state:\n",
    "                    print(f\"({self.current_state.id})\")\n",
    "                    return self.current_state\n",
    "        except Exception as e:\n",
    "            print(\"Encountered a failure!\")\n",
    "            print(\"Details:-\", e)\n",
    "            if self.persist_on_failure:\n",
    "                print(\"Persisting FSM state..\")\n",
    "                self.persist_state()\n",
    "                return \n",
    "        print(f\"({self.current_state.id})\")\n",
    "        return self.current_state\n",
    "\n",
    "    def persist_state(self):\n",
    "        file_name = f\"fsm_obj_{datetime.now().strftime('%Y_%m_%d')}.pkl\"\n",
    "        print(f\"States persisted in file: {file_name}\")\n",
    "        pickle.dump(self, open(file_name, \"wb\"))\n",
    "    \n",
    "    #tried to store just the values, it got complicated, considering the challenge to resolve state object types\n",
    "    def restore_machine(self, pkl_file: str):\n",
    "        self = pickle.load(open(pkl_file, 'rb'))\n",
    "        return self\n",
    "\n",
    "    @abstractmethod\n",
    "    def _transition_fn(self, inp: State, symbol: str) -> State:\n",
    "        return\n",
    "    \n",
    "    def __str__(self):\n",
    "        return f\"\"\"Possible States: {[str(c) for c in self.states]}\\nCurrent State: {str(self.current_state)}\"\"\"\n"
   ]
  },
  {
   "cell_type": "markdown",
   "metadata": {},
   "source": [
    "##### Design for Toy Problem"
   ]
  },
  {
   "cell_type": "markdown",
   "metadata": {},
   "source": [
    "##### 2 Conditions to terminate the FSM:-\n",
    "-You stop it manually in which case, we go to the stop (q_f) state\n",
    "OR<br>\n",
    "-You experience failure (in our case, I consider symbol not found as one of the use case for failure), in this case,\n",
    "I persist the FSM"
   ]
  },
  {
   "cell_type": "markdown",
   "metadata": {},
   "source": [
    "<img src=\"design.jpg\" alt=\"Design\" style=\"width: 550px;\"/>\n"
   ]
  },
  {
   "cell_type": "code",
   "execution_count": 92,
   "metadata": {},
   "outputs": [],
   "source": [
    "class LollipopCounter(State):\n",
    "    def __init__(self, id: str) -> None:\n",
    "        super().__init__(id=id, val=0)\n",
    "\n",
    "    def reset_state(self):\n",
    "        self.value = 0\n",
    "    \n",
    "    def update_state(self):\n",
    "        self.value +=1\n",
    "    \n",
    "class LollipopMachine(FSM):\n",
    "    def __init__(self, persist_on_failure: Optional[bool]=False) -> None:\n",
    "        lemon_counter = LollipopCounter(id='Q_l')\n",
    "        strawberry_couter = LollipopCounter(id='Q_s')\n",
    "        start = State(id='Q0')\n",
    "        error = State(id='Q_e')\n",
    "        end = State(id='Q_f')\n",
    "        super().__init__(states=[start, \n",
    "                                 lemon_counter, \n",
    "                                 strawberry_couter, \n",
    "                                 error, \n",
    "                                 end],\n",
    "                         symbols=['s', 'l', 'c'],\n",
    "                         start_state=start, \n",
    "                         end_state=end,\n",
    "                         current_state=start,\n",
    "                         persist_on_failure=persist_on_failure)\n",
    "    \n",
    "    def _transition_fn(self, curr_state: State, symbol: str) -> State:\n",
    "        if symbol not in self.symbols:\n",
    "            raise Exception(\"Invalid Symbol\")\n",
    "        if symbol=='c':\n",
    "            next_state = self.state_lookup[\"Q_f\"]\n",
    "            return next_state\n",
    "        if symbol=='l':\n",
    "            next_state = self.state_lookup[\"Q_l\"]\n",
    "        elif symbol=='s':\n",
    "            next_state = self.state_lookup[\"Q_s\"]\n",
    "        if curr_state.id!=next_state.id:\n",
    "            next_state.reset_state()\n",
    "        next_state.update_state()\n",
    "        if next_state.value!=0 and next_state.value%3==0:\n",
    "            next_state.reset_state()\n",
    "            next_state = self.state_lookup[\"Q_e\"]\n",
    "        return next_state\n",
    "        "
   ]
  },
  {
   "cell_type": "code",
   "execution_count": 93,
   "metadata": {},
   "outputs": [],
   "source": [
    "import random\n",
    "def generate_symbols(num=20, symbols: List[str]=None):\n",
    "    if not symbols:\n",
    "        raise Exception(\"Provide symbols\")\n",
    "    for _ in range(num):\n",
    "        yield random.choice(symbols)"
   ]
  },
  {
   "cell_type": "code",
   "execution_count": 95,
   "metadata": {},
   "outputs": [
    {
     "name": "stdout",
     "output_type": "stream",
     "text": [
      "(Q0) --'s'--> (Q_s) --'l'--> (Q_l) --'s'--> (Q_s) --'s'--> (Q_s) --'s'--> (Q_e) --'s'--> (Q_s) --'s'--> (Q_s) --'l'--> (Q_l) --'l'--> (Q_l) --'l'--> (Q_e) --'l'--> (Q_l) --'s'--> (Q_s) --'s'--> (Q_s) --'s'--> (Q_e) --'l'--> (Q_l) --'l'--> (Q_l) --'l'--> (Q_e) --'s'--> (Q_s)\n"
     ]
    }
   ],
   "source": [
    "machine = LollipopMachine(persist_on_failure=False)\n",
    "#streaming\n",
    "# final_state = machine.process_symbols(generate_symbols(num=20,symbols=['l','s']))\n",
    "#static sequence\n",
    "final_state = machine.process_symbols(list(\"slsssssllllsssllls\"))\n",
    "# print(f\"{final_state.id}\")\n"
   ]
  },
  {
   "cell_type": "code",
   "execution_count": 581,
   "metadata": {},
   "outputs": [],
   "source": [
    "l = LollipopMachine()\n",
    "b = l.restore_machine(\"fsm_obj_2024_03_03.pkl\")\n",
    "# print(\"Current\", str(b.current_state))"
   ]
  },
  {
   "cell_type": "code",
   "execution_count": null,
   "metadata": {},
   "outputs": [],
   "source": []
  }
 ],
 "metadata": {
  "kernelspec": {
   "display_name": "venv",
   "language": "python",
   "name": "python3"
  },
  "language_info": {
   "codemirror_mode": {
    "name": "ipython",
    "version": 3
   },
   "file_extension": ".py",
   "mimetype": "text/x-python",
   "name": "python",
   "nbconvert_exporter": "python",
   "pygments_lexer": "ipython3",
   "version": "3.10.4"
  },
  "orig_nbformat": 4
 },
 "nbformat": 4,
 "nbformat_minor": 2
}
